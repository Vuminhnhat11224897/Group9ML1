{
 "cells": [
  {
   "cell_type": "code",
   "execution_count": 2,
   "metadata": {},
   "outputs": [],
   "source": [
    "from sklearn.ensemble import RandomForestClassifier\n",
    "from collections import deque\n",
    "import numpy as np\n"
   ]
  },
  {
   "cell_type": "code",
   "execution_count": 16,
   "metadata": {},
   "outputs": [],
   "source": [
    "def generate_fraud_data_block(num_samples, num_features):\n",
    "    \"\"\"\n",
    "    Tạo một khối dữ liệu với num_samples mẫu và num_features đặc trưng.\n",
    "    Nhãn về phát hiện gian lận được sinh ngẫu nhiên với xác suất nhất định.\n",
    "    \"\"\"\n",
    "    # Tạo dữ liệu đặc trưng ngẫu nhiên\n",
    "    features = np.random.rand(num_samples, num_features)\n",
    "    \n",
    "    # Sinh nhãn (0 = không gian lận, 1 = gian lận), với xác suất xảy ra gian lận thấp hơn\n",
    "    labels = np.random.choice([0, 1], size=num_samples, p=[0.9, 0.1])\n",
    "    \n",
    "    # Kết hợp các đặc trưng và nhãn\n",
    "    block = list(zip(features, labels))\n",
    "    return block\n",
    "\n",
    "def generate_fraud_data_stream(num_blocks, num_samples_per_block, num_features):\n",
    "    \"\"\"\n",
    "    Tạo luồng dữ liệu phát hiện gian lận gồm nhiều khối.\n",
    "    \"\"\"\n",
    "    data_stream = []\n",
    "    for i in range(num_blocks):\n",
    "        block = generate_fraud_data_block(num_samples_per_block, num_features)\n",
    "        data_stream.append(block)\n",
    "    return data_stream\n",
    "\n",
    "# Ví dụ tạo 5 block dữ liệu phát hiện gian lận\n",
    "num_blocks = 5\n",
    "num_samples_per_block = 10\n",
    "num_features = 10\n",
    "\n",
    "fraud_data_stream = generate_fraud_data_stream(num_blocks, num_samples_per_block, num_features)\n",
    "\n",
    "# Hiển thị block đầu tiên để kiểm tra\n",
    "S = fraud_data_stream"
   ]
  },
  {
   "cell_type": "code",
   "execution_count": 15,
   "metadata": {},
   "outputs": [
    {
     "ename": "TypeError",
     "evalue": "object of type 'numpy.int32' has no len()",
     "output_type": "error",
     "traceback": [
      "\u001b[1;31m---------------------------------------------------------------------------\u001b[0m",
      "\u001b[1;31mTypeError\u001b[0m                                 Traceback (most recent call last)",
      "Cell \u001b[1;32mIn[15], line 74\u001b[0m\n\u001b[0;32m     71\u001b[0m m \u001b[38;5;241m=\u001b[39m \u001b[38;5;241m15\u001b[39m\n\u001b[0;32m     72\u001b[0m k \u001b[38;5;241m=\u001b[39m \u001b[38;5;241m3\u001b[39m\n\u001b[1;32m---> 74\u001b[0m \u001b[43mprocess_data_stream\u001b[49m\u001b[43m(\u001b[49m\u001b[43mS\u001b[49m\u001b[43m,\u001b[49m\u001b[43m \u001b[49m\u001b[43mm\u001b[49m\u001b[43m,\u001b[49m\u001b[43m \u001b[49m\u001b[43mk\u001b[49m\u001b[43m)\u001b[49m\n",
      "Cell \u001b[1;32mIn[15], line 66\u001b[0m, in \u001b[0;36mprocess_data_stream\u001b[1;34m(S, m, k, epsilon)\u001b[0m\n\u001b[0;32m     64\u001b[0m \u001b[38;5;28;01mfor\u001b[39;00m sample, true_label \u001b[38;5;129;01min\u001b[39;00m Bi:\n\u001b[0;32m     65\u001b[0m     selected_classifiers \u001b[38;5;241m=\u001b[39m adaptive_ensemble_size(C, sample, true_label)\n\u001b[1;32m---> 66\u001b[0m     predicted_class \u001b[38;5;241m=\u001b[39m \u001b[43mtendency_prediction\u001b[49m\u001b[43m(\u001b[49m\u001b[43mselected_classifiers\u001b[49m\u001b[43m,\u001b[49m\u001b[43m \u001b[49m\u001b[43mtrue_label\u001b[49m\u001b[43m,\u001b[49m\u001b[43m \u001b[49m\u001b[43mepsilon\u001b[49m\u001b[43m)\u001b[49m\n\u001b[0;32m     67\u001b[0m     bl1\u001b[38;5;241m.\u001b[39mappend(predicted_class)\n\u001b[0;32m     68\u001b[0m Pre\u001b[38;5;241m.\u001b[39mappend(bl1)\n",
      "Cell \u001b[1;32mIn[15], line 23\u001b[0m, in \u001b[0;36mtendency_prediction\u001b[1;34m(probability_list, Y, epsilon)\u001b[0m\n\u001b[0;32m     21\u001b[0m \u001b[38;5;28;01mdef\u001b[39;00m \u001b[38;5;21mtendency_prediction\u001b[39m(probability_list, Y, epsilon\u001b[38;5;241m=\u001b[39m\u001b[38;5;241m0.01\u001b[39m):\n\u001b[0;32m     22\u001b[0m     predicted_probabilities \u001b[38;5;241m=\u001b[39m []\n\u001b[1;32m---> 23\u001b[0m     \u001b[38;5;28;01mfor\u001b[39;00m i \u001b[38;5;129;01min\u001b[39;00m \u001b[38;5;28mrange\u001b[39m(\u001b[38;5;28;43mlen\u001b[39;49m\u001b[43m(\u001b[49m\u001b[43mY\u001b[49m\u001b[43m)\u001b[49m):\n\u001b[0;32m     24\u001b[0m         li \u001b[38;5;241m=\u001b[39m probability_list[i]\n\u001b[0;32m     26\u001b[0m         x \u001b[38;5;241m=\u001b[39m np\u001b[38;5;241m.\u001b[39marange(\u001b[38;5;241m1\u001b[39m, \u001b[38;5;28mlen\u001b[39m(li) \u001b[38;5;241m+\u001b[39m \u001b[38;5;241m1\u001b[39m)\n",
      "\u001b[1;31mTypeError\u001b[0m: object of type 'numpy.int32' has no len()"
     ]
    }
   ],
   "source": [
    "def train_random_forest_classifier(X, y, n_estimators=10):\n",
    "    \"\"\"\n",
    "    Huấn luyện một bộ phân loại Random Forest trên dữ liệu X, y.\n",
    "    n_estimators: Số lượng cây trong rừng ngẫu nhiên.\n",
    "    \"\"\"\n",
    "    rf = RandomForestClassifier(n_estimators=n_estimators)\n",
    "    rf.fit(X, y)\n",
    "    return rf\n",
    "\n",
    "\n",
    "def linear_regression(x, y):\n",
    "    \"\"\"Tính hồi quy tuyến tính\"\"\"\n",
    "    A = np.vstack([x, np.ones(len(x))]).T\n",
    "    m, c = np.linalg.lstsq(A, y, rcond=None)[0]\n",
    "    return m, c\n",
    "\n",
    "\n",
    "def adaptive_ensemble_size(C, sample, Y,  epsilon=0.01, min_classifiers=3):\n",
    "    return\n",
    "\n",
    "def tendency_prediction(probability_list, Y, epsilon=0.01):\n",
    "    predicted_probabilities = []\n",
    "    for i in range(len(Y)):\n",
    "        li = probability_list[i]\n",
    "        \n",
    "        x = np.arange(1, len(li) + 1)\n",
    "        y = np.array(li)\n",
    "        \n",
    "        # Tính hồi quy tuyến tính f(li, g(z))\n",
    "        slope, intercept = linear_regression(x, y)\n",
    "        \n",
    "        # Dự đoán giá trị tiếp theo g(|li| + 1)\n",
    "        next_value = slope * (len(li) + 1) + intercept\n",
    "        li.append(next_value)\n",
    "        \n",
    "        # Tính xác suất có trọng số bằng phương pháp trung bình có trọng số\n",
    "        weighted_prob = sum([li[x] * (1 + x * epsilon) for x in range(len(li))]) / len(li)\n",
    "        predicted_probabilities.append(weighted_prob)\n",
    "    \n",
    "    Ps = Y[np.argmax(predicted_probabilities)]\n",
    "    \n",
    "    return Ps\n",
    "\n",
    "def process_data_stream(S, m, k, epsilon=0.01):\n",
    "    \"\"\"\n",
    "    Xử lý luồng dữ liệu S theo thuật toán với bộ phân loại Random Forest yếu.\n",
    "    - S: Luồng dữ liệu (một danh sách các khối Bi)\n",
    "    - m: Kích thước tối đa của tập hợp bộ phân loại C\n",
    "    - k: Kích thước tối thiểu của C để tiến hành dự đoán\n",
    "    \"\"\"\n",
    "    C = deque(maxlen=m) \n",
    "    Pre = []\n",
    "    for Bi in S:\n",
    "        bl1 = []\n",
    "        X = np.array([sample[0] for sample in Bi])  \n",
    "        y = np.array([sample[1] for sample in Bi])  \n",
    "        Ci = train_random_forest_classifier(X, y)\n",
    "        while len(C) < k:\n",
    "            C.append(Ci)\n",
    "        if len(C) < m:\n",
    "            C.append(Ci)\n",
    "        else:\n",
    "            C.append(Ci) \n",
    "        for sample, true_label in Bi:\n",
    "            selected_classifiers = adaptive_ensemble_size(C, sample, true_label)\n",
    "            predicted_class = tendency_prediction(selected_classifiers, true_label, epsilon)\n",
    "            bl1.append(predicted_class)\n",
    "        Pre.append(bl1)\n",
    "    return C, Pre\n",
    "\n",
    "m = 15\n",
    "k = 3\n",
    "\n",
    "process_data_stream(S, m, k)"
   ]
  },
  {
   "cell_type": "code",
   "execution_count": 5,
   "metadata": {},
   "outputs": [
    {
     "name": "stdout",
     "output_type": "stream",
     "text": [
      "Dự đoán lớp: Class 1\n"
     ]
    }
   ],
   "source": [
    "def linear_regression(x, y):\n",
    "    \"\"\"Tính hồi quy tuyến tính\"\"\"\n",
    "    A = np.vstack([x, np.ones(len(x))]).T\n",
    "    m, c = np.linalg.lstsq(A, y, rcond=None)[0]\n",
    "    return m, c\n",
    "\n",
    "def tendency_prediction(probability_list, Y, epsilon=0.01):\n",
    "    \"\"\"\n",
    "    Thực hiện cơ chế dự đoán xu hướng\n",
    "    Input:\n",
    "    - probability_list: Danh sách xác suất cho mỗi mẫu\n",
    "    - Y: Danh sách các lớp trong luồng dữ liệu\n",
    "    - epsilon: Hệ số trọng số (mặc định là 0.01)\n",
    "    Output:\n",
    "    - Ps: Lớp dự đoán cho mẫu\n",
    "    \"\"\"\n",
    "    predicted_probabilities = []\n",
    "    for i in range(len(Y)):\n",
    "        li = probability_list[i]\n",
    "        \n",
    "        x = np.arange(1, len(li) + 1)\n",
    "        y = np.array(li)\n",
    "        \n",
    "        # Tính hồi quy tuyến tính f(li, g(z))\n",
    "        slope, intercept = linear_regression(x, y)\n",
    "        \n",
    "        # Dự đoán giá trị tiếp theo g(|li| + 1)\n",
    "        next_value = slope * (len(li) + 1) + intercept\n",
    "        li.append(next_value)\n",
    "        \n",
    "        # Tính xác suất có trọng số bằng phương pháp trung bình có trọng số\n",
    "        weighted_prob = sum([li[x] * (1 + x * epsilon) for x in range(len(li))]) / len(li)\n",
    "        predicted_probabilities.append(weighted_prob)\n",
    "    \n",
    "    Ps = Y[np.argmax(predicted_probabilities)]\n",
    "    \n",
    "    return Ps\n",
    "\n",
    "probability_list = [\n",
    "    [0.6, 0.65, 0.7],  # Xác suất cho lớp 1\n",
    "    [0.4, 0.35, 0.3],  # Xác suất cho lớp 2\n",
    "]\n",
    "Y = ['Class 1', 'Class 2']\n",
    "\n",
    "# Gọi hàm dự đoán\n",
    "predicted_class = tendency_prediction(probability_list, Y)\n",
    "print(f'Dự đoán lớp: {predicted_class}')\n"
   ]
  },
  {
   "cell_type": "code",
   "execution_count": 12,
   "metadata": {},
   "outputs": [
    {
     "name": "stdout",
     "output_type": "stream",
     "text": [
      "[[1]]\n"
     ]
    }
   ],
   "source": [
    "a = []\n",
    "b = []\n",
    "a.append(b)\n",
    "a[0].append(1)\n",
    "print(a)"
   ]
  },
  {
   "cell_type": "code",
   "execution_count": null,
   "metadata": {},
   "outputs": [],
   "source": []
  }
 ],
 "metadata": {
  "kernelspec": {
   "display_name": "Python 3",
   "language": "python",
   "name": "python3"
  },
  "language_info": {
   "codemirror_mode": {
    "name": "ipython",
    "version": 3
   },
   "file_extension": ".py",
   "mimetype": "text/x-python",
   "name": "python",
   "nbconvert_exporter": "python",
   "pygments_lexer": "ipython3",
   "version": "3.9.5"
  }
 },
 "nbformat": 4,
 "nbformat_minor": 2
}
